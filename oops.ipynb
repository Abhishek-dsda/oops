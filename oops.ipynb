{
 "cells": [
  {
   "cell_type": "markdown",
   "id": "5dda257e",
   "metadata": {},
   "source": [
    "### Python OOPs Questions"
   ]
  },
  {
   "cell_type": "markdown",
   "id": "bf927483",
   "metadata": {},
   "source": [
    "***1. What is Object-Oriented Programming (OOP)?***\n",
    "\n",
    "Object-Oriented Programming (OOP) is a programming paradigm, or a way of structuring code, that is based on the concept of \"objects\".\n",
    "\n",
    "Instead of writing a program as a series of steps (like in procedural programming), you create objects that interact with each other.<br> These objects are meant to model real-world things or concepts in your code.\n",
    "\n",
    "An object is like a real-world thing (car, pen, student, etc.) that has\n",
    "\n",
    "attributes (data/variables) → like color, name, age\n",
    "\n",
    "behaviors (functions/methods) → like drive(), write(), study()\n",
    "\n",
    "In Python, we create these objects using classes."
   ]
  },
  {
   "cell_type": "markdown",
   "id": "f2b8cb24",
   "metadata": {},
   "source": [
    "***2. What is a class in OOP?***\n",
    "\n",
    "A class in OOP is like a blueprint or template used to create objects.\n",
    "\n",
    "It defines what data (attributes/variables) and what actions (methods/functions) an object will have.<br>\n",
    "But the class itself is not an object, it’s just the design. Objects are created from it."
   ]
  },
  {
   "cell_type": "code",
   "execution_count": 2,
   "id": "4a499882",
   "metadata": {},
   "outputs": [
    {
     "name": "stdout",
     "output_type": "stream",
     "text": [
      "BMW car is driving. It is  Black color\n",
      "Audi car is driving. It is  Red color\n"
     ]
    }
   ],
   "source": [
    "class Car:\n",
    "    def __init__(self, brand, color):\n",
    "        self.brand = brand\n",
    "        self.color = color\n",
    "\n",
    "    def drive(self):\n",
    "        print(self.brand, \"car is driving. It is \",self.color,\"color\")\n",
    "\n",
    "# creating objects from the class\n",
    "c1 = Car(\"BMW\", \"Black\")\n",
    "c2 = Car(\"Audi\", \"Red\")\n",
    "\n",
    "c1.drive()\n",
    "c2.drive()\n"
   ]
  },
  {
   "cell_type": "markdown",
   "id": "ce7a61ca",
   "metadata": {},
   "source": [
    "***3. What is an object in OOP?***\n",
    "\n",
    "An object in OOP is a real-world entity created from a class.\n",
    "\n",
    "Think of a class as the design/blueprint, and an object as the actual thing made from it.<br>\n",
    "Each object has its own data (attributes) and can perform actions (methods)."
   ]
  },
  {
   "cell_type": "code",
   "execution_count": 5,
   "id": "10824497",
   "metadata": {},
   "outputs": [
    {
     "name": "stdout",
     "output_type": "stream",
     "text": [
      "Tommy is barking also his age is 3\n",
      "Sheru is barking also his age is 5\n"
     ]
    }
   ],
   "source": [
    "class Dog:\n",
    "    def __init__(self, name, age):\n",
    "        self.name = name\n",
    "        self.age = age\n",
    "\n",
    "    def bark(self):\n",
    "        print(self.name, \"is barking also his age is\",self.age)\n",
    "\n",
    "# creating objects\n",
    "d1 = Dog(\"Tommy\", 3)\n",
    "d2 = Dog(\"Sheru\", 5)\n",
    "\n",
    "d1.bark()\n",
    "d2.bark()\n",
    "#Here, Dog is the class.\n",
    "#d1 and d2 are objects.\n",
    "#Both are dogs, but with different names and ages."
   ]
  },
  {
   "cell_type": "markdown",
   "id": "91a74749",
   "metadata": {},
   "source": [
    "***4. What is the difference between abstraction and encapsulation?***\n",
    "\n",
    "Abstraction → Hides implementation details and only shows what an object does. (Focus on what to do)<br>\n",
    "Encapsulation → Hides the data by binding variables and methods into a single unit (class). (Focus on how to protect data)<br>\n",
    "Example:<br>\n",
    "Abstraction → You use a TV remote without knowing how the circuit works.<br>\n",
    "Encapsulation → The circuit inside TV is hidden and protected inside the box."
   ]
  },
  {
   "cell_type": "markdown",
   "id": "c8aac947",
   "metadata": {},
   "source": [
    "***5.  What are dunder methods in Python?***\n",
    "\n",
    "Dunder methods (also called magic methods) are the special methods in Python that start and end with double underscores __like_this__.<br>\n",
    "They are used to give special meaning to classes and objects.<br>\n",
    "For example:\n",
    "\n",
    "__init__ → runs when object is created (constructor)<br>\n",
    "__str__ → defines how object looks when printed<br>\n",
    "__len__ → defines behavior of len() on object"
   ]
  },
  {
   "cell_type": "markdown",
   "id": "e2fd1a1e",
   "metadata": {},
   "source": [
    "***6. Explain the concept of inheritance in OOP.***\n",
    "\n",
    "Inheritance in OOP means one class can use the properties and methods of another class.<br>\n",
    "It helps in code reusability and makes programs easier to maintain.\n",
    "\n",
    "Parent/Base Class → The class whose features are inherited.<br>\n",
    "Child/Derived Class → The class that inherits the features."
   ]
  },
  {
   "cell_type": "code",
   "execution_count": 6,
   "id": "24cda5cd",
   "metadata": {},
   "outputs": [
    {
     "name": "stdout",
     "output_type": "stream",
     "text": [
      "This is an animal\n",
      "Dog is barking\n"
     ]
    }
   ],
   "source": [
    "# Parent class\n",
    "class Animal:\n",
    "    def speak(self):\n",
    "        print(\"This is an animal\")\n",
    "\n",
    "# Child class\n",
    "class Dog(Animal):\n",
    "    def bark(self):\n",
    "        print(\"Dog is barking\")\n",
    "\n",
    "# creating object\n",
    "d1 = Dog()\n",
    "d1.speak()  # from Animal (parent)\n",
    "d1.bark()   # from Dog (child)\n"
   ]
  },
  {
   "cell_type": "markdown",
   "id": "0be056a4",
   "metadata": {},
   "source": [
    "***7. What is polymorphism in OOP?***\n",
    "\n",
    "Polymorphism in OOP means “many forms” → the same function/method name can work in different ways depending on the object or situation."
   ]
  },
  {
   "cell_type": "code",
   "execution_count": 7,
   "id": "b3718a2b",
   "metadata": {},
   "outputs": [
    {
     "name": "stdout",
     "output_type": "stream",
     "text": [
      "5\n",
      "3\n"
     ]
    }
   ],
   "source": [
    "print(len(\"Hello\"))   # works on string → 5\n",
    "print(len([1,2,3]))   # works on list → 3"
   ]
  },
  {
   "cell_type": "markdown",
   "id": "dbf54844",
   "metadata": {},
   "source": [
    "***8. How is encapsulation achieved in Python?***\n",
    "\n",
    "Encapsulation in Python is achieved by hiding data (variables) inside a class and controlling access to it using methods.<br>\n",
    "This is done using access modifiers:\n",
    "\n",
    "public → accessible everywhere (default)\n",
    "\n",
    "_protected → should be used only inside class/subclass (convention)\n",
    "\n",
    "__private → cannot be accessed directly from outside the class"
   ]
  },
  {
   "cell_type": "code",
   "execution_count": null,
   "id": "e681f773",
   "metadata": {},
   "outputs": [
    {
     "name": "stdout",
     "output_type": "stream",
     "text": [
      "Abhi\n",
      "85\n",
      "1234\n"
     ]
    }
   ],
   "source": [
    "class Student:\n",
    "    def __init__(self, name, marks):\n",
    "        self.name = name          # public\n",
    "        self._marks = marks       # protected\n",
    "        self.__password = \"1234\"  # private\n",
    "\n",
    "    def get_marks(self):\n",
    "        return self._marks\n",
    "\n",
    "    def get_password(self):   # controlled access\n",
    "        return self.__password\n",
    "\n",
    "s1 = Student(\"Abhi\", 85)\n",
    "\n",
    "print(s1.name)        #  public\n",
    "print(s1._marks)      #  works, but not recommended\n",
    "# print(s1.__password)  #  Error\n",
    "print(s1.get_password())  #  access via method"
   ]
  },
  {
   "cell_type": "markdown",
   "id": "8122706d",
   "metadata": {},
   "source": [
    "***9.What is a constructor in Python?***\n",
    "\n",
    "A constructor in Python is a special method called __init__ that runs automatically when an object of a class is created.<br>\n",
    "Its main job is to initialize (set values for) the object’s attributes.\n",
    "- Constructor = __init__ method\n",
    "* It is called automatically when we make an object\n",
    "- It is used to set initial values for the object"
   ]
  },
  {
   "cell_type": "markdown",
   "id": "cb2cef04",
   "metadata": {},
   "source": [
    "***10.What are class and static methods in Python?***\n",
    "\n",
    "Class Method\n",
    "\n",
    "* Defined using @classmethod.\n",
    "* First argument is always cls (refers to the class, not object).\n",
    "* Can access/modify class variables, not instance variables.\n"
   ]
  },
  {
   "cell_type": "code",
   "execution_count": 10,
   "id": "30454903",
   "metadata": {},
   "outputs": [
    {
     "name": "stdout",
     "output_type": "stream",
     "text": [
      "DPS\n"
     ]
    }
   ],
   "source": [
    "class Student:\n",
    "    school = \"DPS\"   # class variable\n",
    "\n",
    "    @classmethod\n",
    "    def get_school(cls):\n",
    "        return cls.school\n",
    "\n",
    "print(Student.get_school())  # \"DPS\""
   ]
  },
  {
   "cell_type": "markdown",
   "id": "1f67f512",
   "metadata": {},
   "source": [
    "Static Method\n",
    "\n",
    "* Defined using @staticmethod.\n",
    "* Doesn’t take self or cls.\n",
    "* Works like a normal function inside a class, but kept inside class for logical grouping."
   ]
  },
  {
   "cell_type": "code",
   "execution_count": 11,
   "id": "b087260c",
   "metadata": {},
   "outputs": [
    {
     "name": "stdout",
     "output_type": "stream",
     "text": [
      "12\n"
     ]
    }
   ],
   "source": [
    "class Math:\n",
    "    @staticmethod\n",
    "    def add(x, y):\n",
    "        return x + y\n",
    "\n",
    "print(Math.add(5, 7))  #  12\n"
   ]
  },
  {
   "cell_type": "markdown",
   "id": "92ea63de",
   "metadata": {},
   "source": [
    "***11.What is method overloading in Python?***\n",
    "\n",
    "Method Overloading means having multiple methods with the same name but different number/type of arguments.<br>\n",
    "In Python true method overloading is not supported.<br>\n",
    "If we define multiple methods with the same name, the last one will overwrite the previous ones.<br>"
   ]
  },
  {
   "cell_type": "code",
   "execution_count": 12,
   "id": "d00bae9c",
   "metadata": {},
   "outputs": [
    {
     "name": "stdout",
     "output_type": "stream",
     "text": [
      "Wecome to pwskills class  \n",
      "Wecome to pwskills class Abhi \n",
      "Wecome to pwskills class Abhi Python\n"
     ]
    }
   ],
   "source": [
    "class Student:\n",
    "    def student(self):\n",
    "        print(\"Wecome to pwskills class\")\n",
    "    def student(self, name = \"\"):\n",
    "        print(\"Wecome to pwskills class\", name)\n",
    "    def student(self, name = \"\", course = \"\"):\n",
    "        print(\"Wecome to pwskills class\", name, course)\n",
    "\n",
    "s1 = Student()\n",
    "s1.student()                    # works with no args\n",
    "s1.student(\"Abhi\")              # works with 1 arg\n",
    "s1.student(\"Abhi\", \"Python\")    # works with 2 args"
   ]
  },
  {
   "cell_type": "markdown",
   "id": "5193cca2",
   "metadata": {},
   "source": [
    "***12.What is method overriding in OOP?***\n",
    "\n",
    "Method Overriding in OOP\n",
    "Method overriding occurs when a child class defines a method with the same name and signature as a method in its parent class.\n",
    "In this case, the child class method replaces (overrides) the parent class method during execution.\n",
    "\n",
    "Key Points:\n",
    "\n",
    "Used in inheritance.<br>\n",
    "The child class method must have the same name as the parent class method.<br>\n",
    "Allows implementing runtime polymorphism."
   ]
  },
  {
   "cell_type": "code",
   "execution_count": 13,
   "id": "684ca925",
   "metadata": {},
   "outputs": [
    {
     "name": "stdout",
     "output_type": "stream",
     "text": [
      "Dog barks\n"
     ]
    }
   ],
   "source": [
    "class Animal:\n",
    "    def sound(self):\n",
    "        print(\"This is an animal sound\")\n",
    "\n",
    "class Dog(Animal):\n",
    "    def sound(self):   # overriding the parent method\n",
    "        print(\"Dog barks\")\n",
    "\n",
    "d = Dog()\n",
    "d.sound()   # Child method is called, not parent\n"
   ]
  },
  {
   "cell_type": "markdown",
   "id": "90f460b2",
   "metadata": {},
   "source": [
    "***13.What is a property decorator in Python?***\n",
    "\n",
    "Property Decorator in Python\n",
    "The @property decorator in Python is used to define getter methods that allow a class method to be accessed like an attribute.\n",
    "It is mainly used for encapsulation: controlling access to private variables while still providing a clean syntax for the user."
   ]
  },
  {
   "cell_type": "code",
   "execution_count": 14,
   "id": "9d77be89",
   "metadata": {},
   "outputs": [
    {
     "data": {
      "text/plain": [
       "5"
      ]
     },
     "execution_count": 14,
     "metadata": {},
     "output_type": "execute_result"
    }
   ],
   "source": [
    "class Circle:\n",
    "    def __init__(self, radius):\n",
    "        self.__radius = radius   # private variable\n",
    "\n",
    "    @property\n",
    "    def radius(self):   # getter method\n",
    "        return self.__radius\n",
    "    \n",
    "c= Circle(5)\n",
    "c.radius"
   ]
  },
  {
   "cell_type": "markdown",
   "id": "d58282fa",
   "metadata": {},
   "source": [
    "***14.Why is polymorphism important in OOP?***\n",
    "\n",
    "Polymorphism is important because it allows the same interface (method name) to be used for different types of objects, enabling flexibility and reusability in code.\n",
    "\n",
    "Benefits:\n",
    "\n",
    "Code Reusability – Same method name works across different classes.<br>\n",
    "Extensibility – New classes can be added without changing existing code.<br>\n",
    "Readability and Maintainability – Cleaner code, since the same operation can apply to multiple object types.<br>\n",
    "Runtime Flexibility – Enables dynamic method binding (deciding at runtime which method to call)."
   ]
  },
  {
   "cell_type": "code",
   "execution_count": 15,
   "id": "1e83c21b",
   "metadata": {},
   "outputs": [
    {
     "name": "stdout",
     "output_type": "stream",
     "text": [
      "Bark\n",
      "Meow\n"
     ]
    }
   ],
   "source": [
    "class Dog:\n",
    "    def sound(self):\n",
    "        print(\"Bark\")\n",
    "\n",
    "class Cat:\n",
    "    def sound(self):\n",
    "        print(\"Meow\")\n",
    "\n",
    "# Polymorphism in action\n",
    "for animal in [Dog(), Cat()]:\n",
    "    animal.sound()\n"
   ]
  },
  {
   "cell_type": "markdown",
   "id": "b9b3ab42",
   "metadata": {},
   "source": [
    "***15.What is an abstract class in Python?***\n",
    "\n",
    "An abstract class is a class that cannot be instantiated directly and is used as a blueprint for other classes.<br>\n",
    "It can have abstract methods (methods declared but not implemented) which must be implemented by its child classes.<br>\n",
    "In Python, abstract classes are defined using the abc module with ABC (Abstract Base Class) and @abstractmethod"
   ]
  },
  {
   "cell_type": "code",
   "execution_count": 16,
   "id": "cd226926",
   "metadata": {},
   "outputs": [
    {
     "name": "stdout",
     "output_type": "stream",
     "text": [
      "Bark\n",
      "Meow\n"
     ]
    }
   ],
   "source": [
    "from abc import ABC, abstractmethod\n",
    "\n",
    "class Animal(ABC):   # abstract class\n",
    "    @abstractmethod\n",
    "    def sound(self):   # abstract method\n",
    "        pass\n",
    "\n",
    "class Dog(Animal):\n",
    "    def sound(self):\n",
    "        print(\"Bark\")\n",
    "\n",
    "class Cat(Animal):\n",
    "    def sound(self):\n",
    "        print(\"Meow\")\n",
    "\n",
    "d = Dog()\n",
    "d.sound()\n",
    "\n",
    "c = Cat()\n",
    "c.sound()\n"
   ]
  },
  {
   "cell_type": "markdown",
   "id": "a20682bc",
   "metadata": {},
   "source": [
    "***16.What are the advantages of OOP?***\n",
    "\n",
    "dvantages of OOP (Object-Oriented Programming):\n",
    "\n",
    "Modularity – Code is divided into classes and objects, making it organized.<br>\n",
    "Reusability – Classes can be reused across different programs, reducing duplication.<br>\n",
    "Scalability – Easy to add new features by creating new classes or extending existing ones.<br>\n",
    "Maintainability – Errors are easier to locate and fix due to structured code.<br>\n",
    "Abstraction – Hides implementation details and exposes only necessary functionality.<br>\n",
    "Encapsulation – Protects data by restricting direct access and providing controlled access.<br>\n",
    "Polymorphism – Same method name can be used for different types, improving flexibility.<br>\n",
    "Inheritance – Promotes code reusability by allowing child classes to use parent class features.<br>\n",
    "Summary:\n",
    "OOP makes programs more modular, reusable, secure, and easier to maintain, which is why it is widely used in real-world software development."
   ]
  },
  {
   "cell_type": "markdown",
   "id": "03938ed0",
   "metadata": {},
   "source": [
    "***17.What is the difference between a class variable and an instance variable?***\n",
    "\n",
    "Difference between Class Variable and Instance Variable\n",
    "\n",
    "Class Variable\n",
    "\n",
    "Shared by all objects of the class.<br>\n",
    "Defined inside the class but outside any method.<br>\n",
    "Changing it affects all instances.\n",
    "\n",
    "Instance Variable\n",
    "\n",
    "Unique to each object.<br>\n",
    "Defined inside the constructor (__init__) using self.<br>\n",
    "Changing it affects only that particular object."
   ]
  },
  {
   "cell_type": "code",
   "execution_count": 17,
   "id": "a92d5fd3",
   "metadata": {},
   "outputs": [
    {
     "name": "stdout",
     "output_type": "stream",
     "text": [
      "DPS Abhi\n",
      "DPS Riya\n",
      "KV\n"
     ]
    }
   ],
   "source": [
    "class Student:\n",
    "    school = \"DPS\"   # class variable\n",
    "\n",
    "    def __init__(self, name):\n",
    "        self.name = name   # instance variable\n",
    "\n",
    "s1 = Student(\"Abhi\")\n",
    "s2 = Student(\"Riya\")\n",
    "\n",
    "print(s1.school, s1.name)  # DPS Abhi\n",
    "print(s2.school, s2.name)  # DPS Riya\n",
    "\n",
    "Student.school = \"KV\"      # change class variable\n",
    "print(s1.school)           # KV (changed for all)"
   ]
  },
  {
   "cell_type": "markdown",
   "id": "7828abe5",
   "metadata": {},
   "source": [
    "***18.What is multiple inheritance in Python?***\n",
    "\n",
    "Multiple Inheritance in Python\n",
    "\n",
    "Multiple inheritance is a feature in Python where a child class can inherit from more than one parent class.\n",
    "This allows the child class to use attributes and methods from multiple classes.\n",
    "\n",
    "Key Points:\n",
    "\n",
    "Python resolves conflicts using Method Resolution Order (MRO).<br>\n",
    "Multiple inheritance increases reusability but can lead to ambiguity if the same method exists in both parents."
   ]
  },
  {
   "cell_type": "code",
   "execution_count": 18,
   "id": "96f9fc3c",
   "metadata": {},
   "outputs": [
    {
     "name": "stdout",
     "output_type": "stream",
     "text": [
      "Gardening\n",
      "Cooking\n",
      "Dancing\n"
     ]
    }
   ],
   "source": [
    "class Father:\n",
    "    def skill(self):\n",
    "        print(\"Gardening\")\n",
    "\n",
    "class Mother:\n",
    "    def talent(self):\n",
    "        print(\"Cooking\")\n",
    "\n",
    "class Child(Father, Mother):   # multiple inheritance\n",
    "    def hobby(self):\n",
    "        print(\"Dancing\")\n",
    "\n",
    "c = Child()\n",
    "c.skill()    # from Father\n",
    "c.talent()   # from Mother\n",
    "c.hobby()    # from Child"
   ]
  },
  {
   "cell_type": "markdown",
   "id": "c04b5233",
   "metadata": {},
   "source": [
    "***19.Explain the purpose of ‘’__str__’ and ‘__repr__’ ‘ methods in Python?***\n",
    "\n",
    "Both are dunder methods that control how an object is represented as a string.\n",
    "\n",
    "__str__ (User-Friendly Representation)\n",
    "\n",
    "Used by the print() function or str().<br>\n",
    "Returns a readable, informal string for the end user.<br>\n",
    "Focus: Readability.\n",
    "\n",
    "__repr__ (Developer-Friendly Representation)\n",
    "\n",
    "Used by the interpreter or repr().<br>\n",
    "Returns a detailed string, often including type and data, useful for debugging.<br>\n",
    "Focus: Unambiguous representation."
   ]
  },
  {
   "cell_type": "code",
   "execution_count": 19,
   "id": "bb96c6c2",
   "metadata": {},
   "outputs": [
    {
     "name": "stdout",
     "output_type": "stream",
     "text": [
      "Student Name: Abhi, Age: 22\n",
      "Student('Abhi', 22)\n"
     ]
    }
   ],
   "source": [
    "class Student:\n",
    "    def __init__(self, name, age):\n",
    "        self.name = name\n",
    "        self.age = age\n",
    "\n",
    "    def __str__(self):\n",
    "        return f\"Student Name: {self.name}, Age: {self.age}\"\n",
    "\n",
    "    def __repr__(self):\n",
    "        return f\"Student('{self.name}', {self.age})\"\n",
    "\n",
    "s = Student(\"Abhi\", 22)\n",
    "\n",
    "print(str(s))   # calls __str__\n",
    "print(repr(s))  # calls __repr__\n"
   ]
  },
  {
   "cell_type": "markdown",
   "id": "839b2cb5",
   "metadata": {},
   "source": [
    "***20.What is the significance of the ‘super()’ function in Python?***\n",
    "\n",
    "The super() function is used to call methods from a parent (base) class inside a child (derived) class.\n",
    "It is especially useful in inheritance to reuse parent class code without explicitly naming the parent class.\n",
    "\n",
    "Key Points:\n",
    "\n",
    "Avoids rewriting code by reusing parent methods.<br>\n",
    "Makes code easier to maintain (no need to hardcode parent class name).<br>\n",
    "Helps in multiple inheritance by following Python’s Method Resolution Order (MRO)."
   ]
  },
  {
   "cell_type": "code",
   "execution_count": 22,
   "id": "c006505a",
   "metadata": {},
   "outputs": [
    {
     "name": "stdout",
     "output_type": "stream",
     "text": [
      "This is Parent\n",
      "This is Child\n"
     ]
    }
   ],
   "source": [
    "class Parent:\n",
    "    def __init__(self):\n",
    "        print(\"This is Parent\")\n",
    "\n",
    "class Child(Parent):\n",
    "    def __init__(self):\n",
    "        super().__init__()   # calls Parent constructor\n",
    "        print(\"This is Child\")\n",
    "\n",
    "c = Child()\n"
   ]
  },
  {
   "cell_type": "markdown",
   "id": "dd004266",
   "metadata": {},
   "source": [
    "***21.What is the significance of the __del__ method in Python?***\n",
    "\n",
    "The __del__ method is a destructor method in Python.<br>\n",
    "It is called automatically when an object is about to be destroyed (i.e., when it goes out of scope or the program ends).<br>\n",
    "Its main purpose is to clean up resources like closing files, releasing memory, or disconnecting from a database before the object is removed from memory."
   ]
  },
  {
   "cell_type": "code",
   "execution_count": 23,
   "id": "43f445f1",
   "metadata": {},
   "outputs": [
    {
     "name": "stdout",
     "output_type": "stream",
     "text": [
      "Object created for Abhi\n",
      "Object destroyed for Abhi\n"
     ]
    }
   ],
   "source": [
    "class Student:\n",
    "    def __init__(self, name):\n",
    "        self.name = name\n",
    "        print(f\"Object created for {self.name}\")\n",
    "\n",
    "    def __del__(self):\n",
    "        print(f\"Object destroyed for {self.name}\")\n",
    "\n",
    "s = Student(\"Abhi\")\n",
    "del s   # explicitly deleting object\n"
   ]
  },
  {
   "cell_type": "markdown",
   "id": "6cc8c0fd",
   "metadata": {},
   "source": [
    "***22. What is the difference between @staticmethod and @classmethod in Python?***\n",
    "| Feature              | `@staticmethod`                                                           | `@classmethod`                                       |\n",
    "| -------------------- | ------------------------------------------------------------------------- | ---------------------------------------------------- |\n",
    "| First Argument       | Does not take `self` or `cls`. Works like a normal function inside class. | Takes `cls` (class itself) as the first argument.    |\n",
    "| Access to Class Data | Cannot access class variables or methods directly.                        | Can access and modify class variables and methods.   |\n",
    "| Usage                | When the method is independent of class or instance.                      | When the method needs to work with class-level data. |\n"
   ]
  },
  {
   "cell_type": "code",
   "execution_count": 24,
   "id": "157b6bd7",
   "metadata": {},
   "outputs": [
    {
     "name": "stdout",
     "output_type": "stream",
     "text": [
      "Hello Abhi, welcome!\n",
      "KV\n"
     ]
    }
   ],
   "source": [
    "class Student:\n",
    "    school = \"DPS\"\n",
    "\n",
    "    @staticmethod\n",
    "    def greet(name):   # no self, no cls\n",
    "        print(f\"Hello {name}, welcome!\")\n",
    "\n",
    "    @classmethod\n",
    "    def change_school(cls, new_name):   # uses cls\n",
    "        cls.school = new_name\n",
    "\n",
    "# Using staticmethod\n",
    "Student.greet(\"Abhi\")  \n",
    "\n",
    "# Using classmethod\n",
    "Student.change_school(\"KV\")\n",
    "print(Student.school)\n"
   ]
  },
  {
   "cell_type": "markdown",
   "id": "00c839ec",
   "metadata": {},
   "source": [
    "***23.  How does polymorphism work in Python with inheritance?***\n",
    "\n",
    "In Python, polymorphism with inheritance means that a child class can provide its own version of a method that already exists in the parent class.<br>\n",
    "At runtime, Python decides which version to call based on the object.<br>\n",
    "This is achieved through method overriding."
   ]
  },
  {
   "cell_type": "code",
   "execution_count": 25,
   "id": "e8157324",
   "metadata": {},
   "outputs": [
    {
     "name": "stdout",
     "output_type": "stream",
     "text": [
      "Bark\n",
      "Meow\n"
     ]
    }
   ],
   "source": [
    "class Animal:\n",
    "    def sound(self):\n",
    "        print(\"Some generic animal sound\")\n",
    "\n",
    "class Dog(Animal):\n",
    "    def sound(self):   # overriding parent method\n",
    "        print(\"Bark\")\n",
    "\n",
    "class Cat(Animal):\n",
    "    def sound(self):   # overriding parent method\n",
    "        print(\"Meow\")\n",
    "\n",
    "# Polymorphism in action\n",
    "animals = [Dog(), Cat()]\n",
    "\n",
    "for a in animals:\n",
    "    a.sound()   # same method name, different behavior\n"
   ]
  },
  {
   "cell_type": "markdown",
   "id": "a9d7c562",
   "metadata": {},
   "source": [
    "***24. What is method chaining in Python OOP?***\n",
    "\n",
    "Method chaining is a technique where multiple methods are called on the same object in a single line, because each method returns the object itself (self).<br>\n",
    "This makes the code shorter and more readable.\n",
    "\n",
    "Method chaining works because methods return self.<br>\n",
    "It helps write clean and compact code.<br>\n",
    "Commonly used in builder patterns, data processing, and frameworks (like Pandas in Python)."
   ]
  },
  {
   "cell_type": "code",
   "execution_count": 26,
   "id": "3114ba16",
   "metadata": {},
   "outputs": [
    {
     "name": "stdout",
     "output_type": "stream",
     "text": [
      "Name: Abhi, Age: 22, Course: Python\n"
     ]
    }
   ],
   "source": [
    "class Student:\n",
    "    def __init__(self, name):\n",
    "        self.name = name\n",
    "    \n",
    "    def set_age(self, age):\n",
    "        self.age = age\n",
    "        return self     # returning object for chaining\n",
    "    \n",
    "    def set_course(self, course):\n",
    "        self.course = course\n",
    "        return self     # returning object for chaining\n",
    "    \n",
    "    def show(self):\n",
    "        print(f\"Name: {self.name}, Age: {self.age}, Course: {self.course}\")\n",
    "        return self\n",
    "\n",
    "# Method chaining\n",
    "s = Student(\"Abhi\").set_age(22).set_course(\"Python\").show()\n"
   ]
  },
  {
   "cell_type": "markdown",
   "id": "e7bf11f5",
   "metadata": {},
   "source": [
    "***25. What is the purpose of the __call__ method in Python?***\n",
    "\n",
    "The __call__ method allows an object of a class to be called like a function.<br>\n",
    "When you use parentheses () after an object, Python automatically executes its __call__ method.\n",
    "\n",
    "__call__ makes objects callable like functions.<br>\n",
    "Useful for cases like wrappers, decorators, and function-like objects.<br>\n",
    "Adds flexibility: an object can behave both like an object and like a function."
   ]
  },
  {
   "cell_type": "code",
   "execution_count": 27,
   "id": "9620eaa8",
   "metadata": {},
   "outputs": [
    {
     "name": "stdout",
     "output_type": "stream",
     "text": [
      "Abhi has enrolled in Python\n"
     ]
    }
   ],
   "source": [
    "class Student:\n",
    "    def __init__(self, name):\n",
    "        self.name = name\n",
    "\n",
    "    def __call__(self, course):\n",
    "        print(f\"{self.name} has enrolled in {course}\")\n",
    "\n",
    "s = Student(\"Abhi\")\n",
    "\n",
    "s(\"Python\")   # looks like calling a function\n"
   ]
  },
  {
   "cell_type": "markdown",
   "id": "7ffa5242",
   "metadata": {},
   "source": [
    "### Practical Questions ###"
   ]
  },
  {
   "cell_type": "markdown",
   "id": "3656d120",
   "metadata": {},
   "source": [
    "***1.  Create a parent class Animal with a method speak() that prints a generic message. Create a child class Dog\n",
    "that overrides the speak() method to print \"Bark!\".***"
   ]
  },
  {
   "cell_type": "code",
   "execution_count": 28,
   "id": "a704f575",
   "metadata": {},
   "outputs": [
    {
     "name": "stdout",
     "output_type": "stream",
     "text": [
      "This is a generic animal sound\n",
      "Bark!\n"
     ]
    }
   ],
   "source": [
    "# Parent class\n",
    "class Animal:\n",
    "    def speak(self):\n",
    "        print(\"This is a generic animal sound\")\n",
    "\n",
    "# Child class\n",
    "class Dog(Animal):\n",
    "    def speak(self):   # overriding parent's method\n",
    "        print(\"Bark!\")\n",
    "\n",
    "# Create objects\n",
    "a = Animal()\n",
    "a.speak()   # calls Animal's method\n",
    "\n",
    "d = Dog()\n",
    "d.speak()   # calls Dog's method (overridden)\n"
   ]
  },
  {
   "cell_type": "markdown",
   "id": "e083130e",
   "metadata": {},
   "source": [
    "***2.  Write a program to create an abstract class Shape with a method area(). Derive classes Circle and Rectangle\n",
    "from it and implement the area() method in both.***"
   ]
  },
  {
   "cell_type": "code",
   "execution_count": 29,
   "id": "666e4b96",
   "metadata": {},
   "outputs": [
    {
     "name": "stdout",
     "output_type": "stream",
     "text": [
      "Circle Area: 78.5\n",
      "Rectangle Area: 24\n"
     ]
    }
   ],
   "source": [
    "from abc import ABC, abstractmethod\n",
    "\n",
    "# Abstract class\n",
    "class Shape(ABC):\n",
    "    @abstractmethod\n",
    "    def area(self):\n",
    "        pass   # only declare, no code here\n",
    "\n",
    "# Child class Circle\n",
    "class Circle(Shape):\n",
    "    def __init__(self, radius):\n",
    "        self.radius = radius\n",
    "\n",
    "    def area(self):   # implementing abstract method\n",
    "        return 3.14 * self.radius * self.radius\n",
    "\n",
    "# Child class Rectangle\n",
    "class Rectangle(Shape):\n",
    "    def __init__(self, length, width):\n",
    "        self.length = length\n",
    "        self.width = width\n",
    "\n",
    "    def area(self):   # implementing abstract method\n",
    "        return self.length * self.width\n",
    "\n",
    "# Using the classes\n",
    "c = Circle(5)\n",
    "print(\"Circle Area:\", c.area())\n",
    "\n",
    "r = Rectangle(4, 6)\n",
    "print(\"Rectangle Area:\", r.area())\n"
   ]
  },
  {
   "cell_type": "markdown",
   "id": "43a4b0b5",
   "metadata": {},
   "source": [
    "***3. Implement a multi-level inheritance scenario where a class Vehicle has an attribute type. Derive a class Car\n",
    "and further derive a class ElectricCar that adds a battery attribute.***"
   ]
  },
  {
   "cell_type": "code",
   "execution_count": 30,
   "id": "b815336c",
   "metadata": {},
   "outputs": [
    {
     "name": "stdout",
     "output_type": "stream",
     "text": [
      "Type: Four Wheeler\n",
      "Brand: Tesla\n",
      "Battery: 75 kWh\n"
     ]
    }
   ],
   "source": [
    "# Parent class\n",
    "class Vehicle:\n",
    "    def __init__(self, v_type):\n",
    "        self.v_type = v_type\n",
    "\n",
    "# Child class\n",
    "class Car(Vehicle):\n",
    "    def __init__(self, v_type, brand):\n",
    "        super().__init__(v_type)   # call Vehicle constructor\n",
    "        self.brand = brand\n",
    "\n",
    "# Grandchild class\n",
    "class ElectricCar(Car):\n",
    "    def __init__(self, v_type, brand, battery):\n",
    "        super().__init__(v_type, brand)   # call Car constructor\n",
    "        self.battery = battery\n",
    "\n",
    "# Create object\n",
    "e = ElectricCar(\"Four Wheeler\", \"Tesla\", \"75 kWh\")\n",
    "\n",
    "print(\"Type:\", e.v_type)\n",
    "print(\"Brand:\", e.brand)\n",
    "print(\"Battery:\", e.battery)\n"
   ]
  },
  {
   "cell_type": "markdown",
   "id": "1f215877",
   "metadata": {},
   "source": [
    "***4. Demonstrate polymorphism by creating a base class Bird with a method fly(). Create two derived classes***\n",
    "***Sparrow and Penguin that override the fly() method.***"
   ]
  },
  {
   "cell_type": "code",
   "execution_count": 31,
   "id": "d1e115df",
   "metadata": {},
   "outputs": [
    {
     "name": "stdout",
     "output_type": "stream",
     "text": [
      "Sparrow can fly high in the sky!\n",
      "Penguin cannot fly, it swims instead!\n"
     ]
    }
   ],
   "source": [
    "# Base class\n",
    "class Bird:\n",
    "    def fly(self):\n",
    "        print(\"Some birds can fly, some cannot.\")\n",
    "\n",
    "# Derived class Sparrow\n",
    "class Sparrow(Bird):\n",
    "    def fly(self):\n",
    "        print(\"Sparrow can fly high in the sky!\")\n",
    "\n",
    "# Derived class Penguin\n",
    "class Penguin(Bird):\n",
    "    def fly(self):\n",
    "        print(\"Penguin cannot fly, it swims instead!\")\n",
    "\n",
    "# Polymorphism in action\n",
    "birds = [Sparrow(), Penguin()]\n",
    "\n",
    "for b in birds:\n",
    "    b.fly()   # same method name, different behavior\n"
   ]
  },
  {
   "cell_type": "markdown",
   "id": "420216cc",
   "metadata": {},
   "source": [
    "***5.  Write a program to demonstrate encapsulation by creating a class BankAccount with private attributes\n",
    "balance and methods to deposit, withdraw, and check balance.***"
   ]
  },
  {
   "cell_type": "code",
   "execution_count": 33,
   "id": "7e83d987",
   "metadata": {},
   "outputs": [
    {
     "name": "stdout",
     "output_type": "stream",
     "text": [
      "Deposited: 500\n",
      "Withdrawn: 200\n",
      "Current Balance: 1300\n"
     ]
    }
   ],
   "source": [
    "class BankAccount:\n",
    "    def __init__(self, balance=0):\n",
    "        self.__balance = balance   # private attribute\n",
    "\n",
    "    def deposit(self, amount):\n",
    "        if amount > 0:\n",
    "            self.__balance += amount\n",
    "            print(f\"Deposited: {amount}\")\n",
    "        else:\n",
    "            print(\"Invalid deposit amount\")\n",
    "\n",
    "    def withdraw(self, amount):\n",
    "        if 0 < amount <= self.__balance:\n",
    "            self.__balance -= amount\n",
    "            print(f\"Withdrawn: {amount}\")\n",
    "        else:\n",
    "            print(\"Insufficient balance or invalid amount\")\n",
    "\n",
    "    def check_balance(self):\n",
    "        print(f\"Current Balance: {self.__balance}\")\n",
    "\n",
    "# Using the class\n",
    "account = BankAccount(1000)\n",
    "account.deposit(500)\n",
    "account.withdraw(200)\n",
    "account.check_balance()\n",
    "\n",
    "# Trying to access private attribute directly (will not work)\n",
    "# print(account.__balance)  # Error\n"
   ]
  },
  {
   "cell_type": "markdown",
   "id": "9c5752f8",
   "metadata": {},
   "source": [
    "***6. Demonstrate runtime polymorphism using a method play() in a base class Instrument. Derive classes Guitar\n",
    "and Piano that implement their own version of play().***"
   ]
  },
  {
   "cell_type": "code",
   "execution_count": 34,
   "id": "87b2f599",
   "metadata": {},
   "outputs": [
    {
     "name": "stdout",
     "output_type": "stream",
     "text": [
      "Playing the Guitar: Strum strum!\n",
      "Playing the Piano: Ting ting!\n"
     ]
    }
   ],
   "source": [
    "# Base class\n",
    "class Instrument:\n",
    "    def play(self):\n",
    "        print(\"This instrument makes some sound.\")\n",
    "\n",
    "# Derived class Guitar\n",
    "class Guitar(Instrument):\n",
    "    def play(self):\n",
    "        print(\"Playing the Guitar: Strum strum!\")\n",
    "\n",
    "# Derived class Piano\n",
    "class Piano(Instrument):\n",
    "    def play(self):\n",
    "        print(\"Playing the Piano: Ting ting!\")\n",
    "\n",
    "# Runtime polymorphism\n",
    "instruments = [Guitar(), Piano()]\n",
    "\n",
    "for i in instruments:\n",
    "    i.play()   # same method name, different behavior at runtime\n"
   ]
  },
  {
   "cell_type": "markdown",
   "id": "b75858ba",
   "metadata": {},
   "source": [
    "***7. Create a class MathOperations with a class method add_numbers() to add two numbers and a static\n",
    "method subtract_numbers() to subtract two numbers.***"
   ]
  },
  {
   "cell_type": "code",
   "execution_count": 35,
   "id": "51899088",
   "metadata": {},
   "outputs": [
    {
     "name": "stdout",
     "output_type": "stream",
     "text": [
      "Addition: 15\n",
      "Subtraction: 5\n"
     ]
    }
   ],
   "source": [
    "class MathOperations:\n",
    "    @classmethod\n",
    "    def add_numbers(cls, a, b):\n",
    "        return a + b\n",
    "\n",
    "    @staticmethod\n",
    "    def subtract_numbers(a, b):\n",
    "        return a - b\n",
    "\n",
    "\n",
    "# Using the methods\n",
    "print(\"Addition:\", MathOperations.add_numbers(10, 5))\n",
    "print(\"Subtraction:\", MathOperations.subtract_numbers(10, 5))\n"
   ]
  },
  {
   "cell_type": "markdown",
   "id": "eb60b555",
   "metadata": {},
   "source": [
    "***8.  Implement a class Person with a class method to count the total number of persons created.***"
   ]
  },
  {
   "cell_type": "code",
   "execution_count": 36,
   "id": "c0185096",
   "metadata": {},
   "outputs": [
    {
     "name": "stdout",
     "output_type": "stream",
     "text": [
      "Total persons created: 3\n"
     ]
    }
   ],
   "source": [
    "class Person:\n",
    "    count = 0   # class variable\n",
    "\n",
    "    def __init__(self, name):\n",
    "        self.name = name\n",
    "        Person.count += 1   # increase count whenever a new object is created\n",
    "\n",
    "    @classmethod\n",
    "    def total_persons(cls):\n",
    "        return cls.count\n",
    "\n",
    "# Creating objects\n",
    "p1 = Person(\"Abhi\")\n",
    "p2 = Person(\"Riya\")\n",
    "p3 = Person(\"Karan\")\n",
    "\n",
    "print(\"Total persons created:\", Person.total_persons())\n",
    "\n"
   ]
  },
  {
   "cell_type": "markdown",
   "id": "15dc31e3",
   "metadata": {},
   "source": [
    "***9.  Write a class Fraction with attributes numerator and denominator. Override the str method to display the\n",
    "fraction as \"numerator/denominator\".***"
   ]
  },
  {
   "cell_type": "code",
   "execution_count": 37,
   "id": "2438a066",
   "metadata": {},
   "outputs": [
    {
     "name": "stdout",
     "output_type": "stream",
     "text": [
      "3/4\n",
      "7/2\n"
     ]
    }
   ],
   "source": [
    "class Fraction:\n",
    "    def __init__(self, numerator, denominator):\n",
    "        self.numerator = numerator\n",
    "        self.denominator = denominator\n",
    "\n",
    "    def __str__(self):\n",
    "        return f\"{self.numerator}/{self.denominator}\"\n",
    "\n",
    "\n",
    "# Using the class\n",
    "f1 = Fraction(3, 4)\n",
    "f2 = Fraction(7, 2)\n",
    "\n",
    "print(f1)   # prints \"3/4\"\n",
    "print(f2)   # prints \"7/2\""
   ]
  },
  {
   "cell_type": "markdown",
   "id": "dc60fdf9",
   "metadata": {},
   "source": [
    "***10.  Demonstrate operator overloading by creating a class Vector and overriding the add method to add two\n",
    "vectors.***"
   ]
  },
  {
   "cell_type": "code",
   "execution_count": 38,
   "id": "84b256e5",
   "metadata": {},
   "outputs": [
    {
     "name": "stdout",
     "output_type": "stream",
     "text": [
      "Vector 1: (2, 3)\n",
      "Vector 2: (4, 5)\n",
      "Sum: (6, 8)\n"
     ]
    }
   ],
   "source": [
    "class Vector:\n",
    "    def __init__(self, x, y):\n",
    "        self.x = x\n",
    "        self.y = y\n",
    "\n",
    "    # Overloading + operator\n",
    "    def __add__(self, other):\n",
    "        return Vector(self.x + other.x, self.y + other.y)\n",
    "\n",
    "    def __str__(self):\n",
    "        return f\"({self.x}, {self.y})\"\n",
    "\n",
    "\n",
    "# Using the class\n",
    "v1 = Vector(2, 3)\n",
    "v2 = Vector(4, 5)\n",
    "\n",
    "v3 = v1 + v2   # calls __add__\n",
    "\n",
    "print(\"Vector 1:\", v1)\n",
    "print(\"Vector 2:\", v2)\n",
    "print(\"Sum:\", v3)"
   ]
  },
  {
   "cell_type": "markdown",
   "id": "a2c2052e",
   "metadata": {},
   "source": [
    "***11.  Create a class Person with attributes name and age. Add a method greet() that prints \"Hello, my name is\n",
    "{name} and I am {age} years old.\"***"
   ]
  },
  {
   "cell_type": "code",
   "execution_count": 39,
   "id": "eb863a1e",
   "metadata": {},
   "outputs": [
    {
     "name": "stdout",
     "output_type": "stream",
     "text": [
      "Hello, my name is Abhishek and I am 24 years old.\n"
     ]
    }
   ],
   "source": [
    "class Person:\n",
    "    def __init__(self, name, age):\n",
    "        self.name = name\n",
    "        self.age = age\n",
    "\n",
    "    def greet(self):\n",
    "        print(f\"Hello, my name is {self.name} and I am {self.age} years old.\")\n",
    "\n",
    "# Example usage\n",
    "p1 = Person(\"Abhishek\", 24)\n",
    "p1.greet()\n"
   ]
  },
  {
   "cell_type": "markdown",
   "id": "c79bc312",
   "metadata": {},
   "source": [
    "***12.  Implement a class Student with attributes name and grades. Create a method average_grade() to compute\n",
    "the average of the grades.***"
   ]
  },
  {
   "cell_type": "code",
   "execution_count": 40,
   "id": "d7233f30",
   "metadata": {},
   "outputs": [
    {
     "name": "stdout",
     "output_type": "stream",
     "text": [
      "Abhishek's average grade is 81.25\n"
     ]
    }
   ],
   "source": [
    "class Student:\n",
    "    def __init__(self, name, grades):\n",
    "        self.name = name\n",
    "        self.grades = grades   # list of numbers\n",
    "\n",
    "    def average_grade(self):\n",
    "        if len(self.grades) == 0:\n",
    "            return 0\n",
    "        return sum(self.grades) / len(self.grades)\n",
    "\n",
    "# Example usage\n",
    "s1 = Student(\"Abhishek\", [80, 90, 70, 85])\n",
    "print(f\"{s1.name}'s average grade is {s1.average_grade()}\")\n"
   ]
  },
  {
   "cell_type": "markdown",
   "id": "4ad4b18f",
   "metadata": {},
   "source": [
    "***13. Create a class Rectangle with methods set_dimensions() to set the dimensions and area() to calculate the\n",
    "area.***"
   ]
  },
  {
   "cell_type": "code",
   "execution_count": 41,
   "id": "f7906335",
   "metadata": {},
   "outputs": [
    {
     "name": "stdout",
     "output_type": "stream",
     "text": [
      "Area of Rectangle: 15\n"
     ]
    }
   ],
   "source": [
    "class Rectangle:\n",
    "    def __init__(self):\n",
    "        self.length = 0\n",
    "        self.width = 0\n",
    "\n",
    "    def set_dimensions(self, length, width):\n",
    "        self.length = length\n",
    "        self.width = width\n",
    "\n",
    "    def area(self):\n",
    "        return self.length * self.width\n",
    "\n",
    "# Example usage\n",
    "rect = Rectangle()\n",
    "rect.set_dimensions(5, 3)\n",
    "print(\"Area of Rectangle:\", rect.area())\n"
   ]
  },
  {
   "cell_type": "markdown",
   "id": "bda43e9b",
   "metadata": {},
   "source": [
    "***14. Create a class Employee with a method calculate_salary() that computes the salary based on hours worked\n",
    "and hourly rate. Create a derived class Manager that adds a bonus to the salary.***"
   ]
  },
  {
   "cell_type": "code",
   "execution_count": 42,
   "id": "2e6b180f",
   "metadata": {},
   "outputs": [
    {
     "name": "stdout",
     "output_type": "stream",
     "text": [
      "Abhishek's Salary: 8000\n",
      "Riya's Salary: 13000\n"
     ]
    }
   ],
   "source": [
    "# Base class\n",
    "class Employee:\n",
    "    def __init__(self, name, hours_worked, hourly_rate):\n",
    "        self.name = name\n",
    "        self.hours_worked = hours_worked\n",
    "        self.hourly_rate = hourly_rate\n",
    "\n",
    "    def calculate_salary(self):\n",
    "        return self.hours_worked * self.hourly_rate\n",
    "\n",
    "# Derived class\n",
    "class Manager(Employee):\n",
    "    def __init__(self, name, hours_worked, hourly_rate, bonus):\n",
    "        super().__init__(name, hours_worked, hourly_rate)\n",
    "        self.bonus = bonus\n",
    "\n",
    "    def calculate_salary(self):\n",
    "        base_salary = super().calculate_salary()\n",
    "        return base_salary + self.bonus\n",
    "\n",
    "# Example usage\n",
    "e = Employee(\"Abhishek\", 40, 200)\n",
    "m = Manager(\"Riya\", 40, 200, 5000)\n",
    "\n",
    "print(f\"{e.name}'s Salary: {e.calculate_salary()}\")\n",
    "print(f\"{m.name}'s Salary: {m.calculate_salary()}\")\n"
   ]
  },
  {
   "cell_type": "markdown",
   "id": "7610d941",
   "metadata": {},
   "source": [
    "***15.  Create a class Product with attributes name, price, and quantity. Implement a method total_price() that\n",
    "calculates the total price of the product.***"
   ]
  },
  {
   "cell_type": "code",
   "execution_count": 43,
   "id": "57da638d",
   "metadata": {},
   "outputs": [
    {
     "name": "stdout",
     "output_type": "stream",
     "text": [
      "Total price of Laptop: 100000\n"
     ]
    }
   ],
   "source": [
    "class Product:\n",
    "    def __init__(self, name, price, quantity):\n",
    "        self.name = name\n",
    "        self.price = price\n",
    "        self.quantity = quantity\n",
    "\n",
    "    def total_price(self):\n",
    "        return self.price * self.quantity\n",
    "\n",
    "# Example usage\n",
    "p1 = Product(\"Laptop\", 50000, 2)\n",
    "print(f\"Total price of {p1.name}: {p1.total_price()}\")\n"
   ]
  },
  {
   "cell_type": "markdown",
   "id": "9ae481b6",
   "metadata": {},
   "source": [
    "***16.  Create a class Animal with an abstract method sound(). Create two derived classes Cow and Sheep that\n",
    "implement the sound() method.***"
   ]
  },
  {
   "cell_type": "code",
   "execution_count": 44,
   "id": "12661e2f",
   "metadata": {},
   "outputs": [
    {
     "name": "stdout",
     "output_type": "stream",
     "text": [
      "Moo\n",
      "Baa\n"
     ]
    }
   ],
   "source": [
    "from abc import ABC, abstractmethod\n",
    "\n",
    "# Abstract class\n",
    "class Animal(ABC):\n",
    "    @abstractmethod\n",
    "    def sound(self):\n",
    "        pass\n",
    "\n",
    "# Derived class Cow\n",
    "class Cow(Animal):\n",
    "    def sound(self):\n",
    "        print(\"Moo\")\n",
    "\n",
    "# Derived class Sheep\n",
    "class Sheep(Animal):\n",
    "    def sound(self):\n",
    "        print(\"Baa\")\n",
    "\n",
    "# Using the classes\n",
    "c = Cow()\n",
    "s = Sheep()\n",
    "\n",
    "c.sound()   # Moo\n",
    "s.sound()   # Baa\n"
   ]
  },
  {
   "cell_type": "markdown",
   "id": "74c58c6e",
   "metadata": {},
   "source": [
    "***17.Create a class Book with attributes title, author, and year_published. Add a method get_book_info() that\n",
    "returns a formatted string with the book's details.***"
   ]
  },
  {
   "cell_type": "code",
   "execution_count": 45,
   "id": "ea22c9fe",
   "metadata": {},
   "outputs": [
    {
     "name": "stdout",
     "output_type": "stream",
     "text": [
      "'1984' by George Orwell, published in 1949\n"
     ]
    }
   ],
   "source": [
    "class Book:\n",
    "    def __init__(self, title, author, year_published):\n",
    "        self.title = title\n",
    "        self.author = author\n",
    "        self.year_published = year_published\n",
    "\n",
    "    def get_book_info(self):\n",
    "        return f\"'{self.title}' by {self.author}, published in {self.year_published}\"\n",
    "\n",
    "# Example usage\n",
    "b1 = Book(\"1984\", \"George Orwell\", 1949)\n",
    "print(b1.get_book_info())\n"
   ]
  },
  {
   "cell_type": "markdown",
   "id": "382bafef",
   "metadata": {},
   "source": [
    "***18. Create a class House with attributes address and price. Create a derived class Mansion that adds an\n",
    "attribute number_of_rooms.***"
   ]
  },
  {
   "cell_type": "code",
   "execution_count": 46,
   "id": "7ee7a103",
   "metadata": {},
   "outputs": [
    {
     "name": "stdout",
     "output_type": "stream",
     "text": [
      "House Address: 123 Main St, Price: 500000\n",
      "Mansion Address: 456 Luxury Rd, Price: 2000000, Rooms: 10\n"
     ]
    }
   ],
   "source": [
    "# Base class\n",
    "class House:\n",
    "    def __init__(self, address, price):\n",
    "        self.address = address\n",
    "        self.price = price\n",
    "\n",
    "# Derived class\n",
    "class Mansion(House):\n",
    "    def __init__(self, address, price, number_of_rooms):\n",
    "        super().__init__(address, price)   # call House constructor\n",
    "        self.number_of_rooms = number_of_rooms\n",
    "\n",
    "# Example usage\n",
    "h = House(\"123 Main St\", 500000)\n",
    "m = Mansion(\"456 Luxury Rd\", 2000000, 10)\n",
    "\n",
    "print(f\"House Address: {h.address}, Price: {h.price}\")\n",
    "print(f\"Mansion Address: {m.address}, Price: {m.price}, Rooms: {m.number_of_rooms}\")\n"
   ]
  }
 ],
 "metadata": {
  "kernelspec": {
   "display_name": "Python 3",
   "language": "python",
   "name": "python3"
  },
  "language_info": {
   "codemirror_mode": {
    "name": "ipython",
    "version": 3
   },
   "file_extension": ".py",
   "mimetype": "text/x-python",
   "name": "python",
   "nbconvert_exporter": "python",
   "pygments_lexer": "ipython3",
   "version": "3.13.5"
  }
 },
 "nbformat": 4,
 "nbformat_minor": 5
}
